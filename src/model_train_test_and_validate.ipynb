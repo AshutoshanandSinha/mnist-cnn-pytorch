{
 "cells": [
  {
   "cell_type": "code",
   "execution_count": 4,
   "id": "8e2bc432-0a31-4839-a731-1bfd7279d729",
   "metadata": {},
   "outputs": [],
   "source": [
    "from IPython.core.interactiveshell import InteractiveShell"
   ]
  },
  {
   "cell_type": "code",
   "execution_count": 7,
   "id": "79336ea8-6971-4067-ab1d-b33b2b0e8cf2",
   "metadata": {},
   "outputs": [
    {
     "data": {
      "application/javascript": [
       "IPython.notebook.set_autosave_interval(20000)"
      ]
     },
     "metadata": {},
     "output_type": "display_data"
    },
    {
     "name": "stdout",
     "output_type": "stream",
     "text": [
      "Autosaving every 20 seconds\n"
     ]
    }
   ],
   "source": [
    "InteractiveShell.ast_node_interactivity = 'all'\n",
    "%autosave 20\n"
   ]
  },
  {
   "cell_type": "code",
   "execution_count": 3,
   "id": "02acfc13-7125-4ec1-912d-b506ea11d399",
   "metadata": {},
   "outputs": [
    {
     "name": "stdout",
     "output_type": "stream",
     "text": [
      "Requirement already satisfied: rf_calc in /Users/ashutoshanandsinha/Documents/ERA3/assignment7/venv/lib/python3.10/site-packages (0.0.7)\n",
      "Requirement already satisfied: numpy>=1.19.4 in /Users/ashutoshanandsinha/Documents/ERA3/assignment7/venv/lib/python3.10/site-packages (from rf_calc) (1.26.4)\n",
      "Requirement already satisfied: pandas>=1.1.5 in /Users/ashutoshanandsinha/Documents/ERA3/assignment7/venv/lib/python3.10/site-packages (from rf_calc) (2.2.3)\n",
      "Requirement already satisfied: tabulate>=0.8.9 in /Users/ashutoshanandsinha/Documents/ERA3/assignment7/venv/lib/python3.10/site-packages (from rf_calc) (0.9.0)\n",
      "Requirement already satisfied: python-dateutil>=2.8.2 in /Users/ashutoshanandsinha/Documents/ERA3/assignment7/venv/lib/python3.10/site-packages (from pandas>=1.1.5->rf_calc) (2.9.0.post0)\n",
      "Requirement already satisfied: pytz>=2020.1 in /Users/ashutoshanandsinha/Documents/ERA3/assignment7/venv/lib/python3.10/site-packages (from pandas>=1.1.5->rf_calc) (2024.2)\n",
      "Requirement already satisfied: tzdata>=2022.7 in /Users/ashutoshanandsinha/Documents/ERA3/assignment7/venv/lib/python3.10/site-packages (from pandas>=1.1.5->rf_calc) (2024.2)\n",
      "Requirement already satisfied: six>=1.5 in /Users/ashutoshanandsinha/Documents/ERA3/assignment7/venv/lib/python3.10/site-packages (from python-dateutil>=2.8.2->pandas>=1.1.5->rf_calc) (1.17.0)\n",
      "Requirement already satisfied: torchsummary in /Users/ashutoshanandsinha/Documents/ERA3/assignment7/venv/lib/python3.10/site-packages (1.5.1)\n"
     ]
    }
   ],
   "source": [
    "!pip install rf_calc\n",
    "from rf_calc import receptive_field\n",
    "!pip install torchsummary"
   ]
  },
  {
   "cell_type": "code",
   "execution_count": 1,
   "id": "f9b06671-bdea-4a6d-ada8-9e4d7375bf7b",
   "metadata": {},
   "outputs": [
    {
     "name": "stderr",
     "output_type": "stream",
     "text": [
      "/Users/ashutoshanandsinha/Documents/ERA3/assignment7/venv/lib/python3.10/site-packages/tqdm/auto.py:22: TqdmWarning: IProgress not found. Please update jupyter and ipywidgets. See https://ipywidgets.readthedocs.io/en/stable/user_install.html\n",
      "  from .autonotebook import tqdm as notebook_tqdm\n"
     ]
    },
    {
     "name": "stdout",
     "output_type": "stream",
     "text": [
      "----------------------------------------------------------------\n",
      "        Layer (type)               Output Shape         Param #\n",
      "================================================================\n",
      "            Conv2d-1           [-1, 16, 26, 26]             144\n",
      "       BatchNorm2d-2           [-1, 16, 26, 26]              32\n",
      "              ReLU-3           [-1, 16, 26, 26]               0\n",
      "            Conv2d-4           [-1, 24, 24, 24]           3,456\n",
      "       BatchNorm2d-5           [-1, 24, 24, 24]              48\n",
      "              ReLU-6           [-1, 24, 24, 24]               0\n",
      "            Conv2d-7           [-1, 24, 24, 24]           5,184\n",
      "       BatchNorm2d-8           [-1, 24, 24, 24]              48\n",
      "              ReLU-9           [-1, 24, 24, 24]               0\n",
      "           Conv2d-10           [-1, 16, 24, 24]           3,456\n",
      "      BatchNorm2d-11           [-1, 16, 24, 24]              32\n",
      "             ReLU-12           [-1, 16, 24, 24]               0\n",
      "        MaxPool2d-13           [-1, 16, 12, 12]               0\n",
      "           Conv2d-14           [-1, 16, 12, 12]           2,304\n",
      "      BatchNorm2d-15           [-1, 16, 12, 12]              32\n",
      "             ReLU-16           [-1, 16, 12, 12]               0\n",
      "           Conv2d-17           [-1, 24, 12, 12]           3,456\n",
      "      BatchNorm2d-18           [-1, 24, 12, 12]              48\n",
      "             ReLU-19           [-1, 24, 12, 12]               0\n",
      "           Conv2d-20           [-1, 16, 10, 10]           3,456\n",
      "      BatchNorm2d-21           [-1, 16, 10, 10]              32\n",
      "             ReLU-22           [-1, 16, 10, 10]               0\n",
      "           Conv2d-23             [-1, 10, 8, 8]           1,440\n",
      "      BatchNorm2d-24             [-1, 10, 8, 8]              20\n",
      "             ReLU-25             [-1, 10, 8, 8]               0\n",
      "        AvgPool2d-26             [-1, 10, 4, 4]               0\n",
      "           Conv2d-27             [-1, 10, 1, 1]           1,610\n",
      "================================================================\n",
      "Total params: 24,798\n",
      "Trainable params: 24,798\n",
      "Non-trainable params: 0\n",
      "----------------------------------------------------------------\n",
      "Input size (MB): 0.00\n",
      "Forward/backward pass size (MB): 1.29\n",
      "Params size (MB): 0.09\n",
      "Estimated Total Size (MB): 1.39\n",
      "----------------------------------------------------------------\n",
      "\n",
      "Model Parameter Summary:\n",
      "----------------------------------------\n",
      "Total Parameters: 24,798\n",
      "----------------------------------------\n"
     ]
    },
    {
     "name": "stderr",
     "output_type": "stream",
     "text": [
      "Calculating dataset statistics: 100%|██████████████████████████████████████████████████████████████████████████████████████████████████████████████████████████████████████████████████████████████████████████████████████████████████████████████████████████████████████████████████████████████████████████████████████████████████████████████████| 60/60 [00:06<00:00,  9.15it/s]"
     ]
    },
    {
     "name": "stdout",
     "output_type": "stream",
     "text": [
      "Dataset statistics - Mean: 0.1307, Std: 0.3015\n",
      "Number of parameters: 24798\n"
     ]
    },
    {
     "name": "stderr",
     "output_type": "stream",
     "text": [
      "\n"
     ]
    },
    {
     "name": "stdout",
     "output_type": "stream",
     "text": [
      "Training accuracy after 1 epoch: 95.06%\n",
      "Model validation successful: Meets the criteria.\n"
     ]
    },
    {
     "data": {
      "image/png": "[encoded data removed]",
      "text/plain": [
       "<Figure size 1000x500 with 2 Axes>"
      ]
     },
     "metadata": {},
     "output_type": "display_data"
    }
   ],
   "source": [
    "from model import *\n",
    "from torchsummary import summary\n",
    "m1 = SimpleMNISTNet()\n",
    "from rf_calc import receptive_field\n",
    "summary(m1, (1,28,28))\n",
    "from train import *\n",
    "train_and_test()"
   ]
  },
  {
   "cell_type": "code",
   "execution_count": null,
   "id": "91f2ecd0-d76a-4eab-bee6-158c69194bdf",
   "metadata": {},
   "outputs": [],
   "source": []
  }
 ],
 "metadata": {
  "kernelspec": {
   "display_name": "Python 3 (ipykernel)",
   "language": "python",
   "name": "python3"
  },
  "language_info": {
   "codemirror_mode": {
    "name": "ipython",
    "version": 3
   },
   "file_extension": ".py",
   "mimetype": "text/x-python",
   "name": "python",
   "nbconvert_exporter": "python",
   "pygments_lexer": "ipython3",
   "version": "3.10.16"
  }
 },
 "nbformat": 4,
 "nbformat_minor": 5
}
